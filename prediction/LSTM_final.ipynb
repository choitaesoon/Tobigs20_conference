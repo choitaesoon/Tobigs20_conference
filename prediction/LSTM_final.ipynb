{
 "cells": [
  {
   "cell_type": "markdown",
   "metadata": {},
   "source": [
    "# 평균판매량"
   ]
  },
  {
   "cell_type": "code",
   "execution_count": 1,
   "metadata": {},
   "outputs": [],
   "source": [
    "import pandas as pd\n",
    "import numpy as np\n",
    "import torch.optim as optim\n",
    "from sklearn.model_selection import train_test_split\n",
    "from tqdm import tqdm\n",
    "from sklearn.preprocessing import MinMaxScaler\n",
    "import warnings\n",
    "import torch.nn as nn\n",
    "warnings.filterwarnings('ignore')"
   ]
  },
  {
   "cell_type": "code",
   "execution_count": 2,
   "metadata": {},
   "outputs": [],
   "source": [
    "import torch\n",
    "from torch.utils.data import Dataset, DataLoader\n",
    "\n",
    "class TimeSeriesDataset(Dataset):\n",
    "    def __init__(self, X, y):\n",
    "        self.X = X\n",
    "        self.y = y\n",
    "\n",
    "    def __len__(self):\n",
    "        return len(self.X)\n",
    "\n",
    "    def __getitem__(self, idx):\n",
    "        return torch.tensor(self.X[idx], dtype=torch.float32), torch.tensor(self.y[idx], dtype=torch.float32)"
   ]
  },
  {
   "cell_type": "code",
   "execution_count": 3,
   "metadata": {},
   "outputs": [],
   "source": [
    "def create_sequences(data, seq_length):\n",
    "  xs = [] \n",
    "  ys = []\n",
    "  for i in range(len(data.T)-seq_length-10):\n",
    "    x = data[:, i:(i+seq_length)]\n",
    "    y = data[:, (i+seq_length):(i+seq_length+10)]\n",
    "    xs.append(x)\n",
    "    ys.append(y)\n",
    "  return np.array(xs), np.array(ys)"
   ]
  },
  {
   "cell_type": "code",
   "execution_count": 4,
   "metadata": {},
   "outputs": [],
   "source": [
    "import torch.nn as nn\n",
    "import torch\n",
    "\n",
    "class LSTM(nn.Module):\n",
    "    def __init__(self, input_dim, hidden_dim, output_dim):\n",
    "        super(LSTM, self).__init__()\n",
    "        self.hidden_dim = hidden_dim\n",
    "        self.lstm = nn.LSTM(input_dim, hidden_dim, batch_first=True)\n",
    "        self.fc = nn.Linear(hidden_dim, output_dim)\n",
    "        \n",
    "    def forward(self, x):\n",
    "\n",
    "        x=x.permute(0, 2, 1) \n",
    "        # Initialize hidden state with zeros\n",
    "        h0 = torch.zeros(1, x.shape[0], self.hidden_dim)\n",
    "        \n",
    "        # Initialize cell state with zeros\n",
    "        c0 = torch.zeros(1, x.shape[0], self.hidden_dim)\n",
    "        \n",
    "        # Forward propagate LSTM\n",
    "        out, _ = self.lstm(x, (h0, c0)) \n",
    "        \n",
    "        # Decode the hidden state of the last time step\n",
    "        out = self.fc(out[:, -1, :])\n",
    "\n",
    "        return out"
   ]
  },
  {
   "cell_type": "code",
   "execution_count": 5,
   "metadata": {},
   "outputs": [],
   "source": [
    "data = pd.read_csv('./data.csv')\n",
    "data = pd.DataFrame(data.iloc[0])\n",
    "\n",
    "scaler = MinMaxScaler(feature_range=(0, 1))\n",
    "scaled_data = scaler.fit_transform(data).reshape(1, -1)\n",
    "\n",
    "X, y =create_sequences(scaled_data, seq_length=30)\n",
    "\n",
    "# 스케일링된 데이터로 데이터셋 재구성\n",
    "train_size = int(0.64 * len(X))\n",
    "val_size = int(0.16 * len(X))\n",
    "test_size = int(0.20 * len(X))\n",
    "\n",
    "X_train, X_val, X_test = X[:train_size], X[train_size:(train_size+val_size)], X[(train_size+val_size):]\n",
    "y_train, y_val, y_test = y[:train_size], y[train_size:(train_size+val_size)], y[(train_size+val_size):]\n",
    "\n",
    "train_dataset = TimeSeriesDataset(X_train,y_train)\n",
    "train_loader = DataLoader(train_dataset, batch_size=32)\n",
    "val_dataset = TimeSeriesDataset(X_val,y_val)\n",
    "val_loader = DataLoader(val_dataset, batch_size=32)\n",
    "test_dataset = TimeSeriesDataset(X_test, y_test)\n",
    "test_loader = DataLoader(test_dataset, batch_size=len(test_dataset))\n",
    "\n",
    "# 모델 정의\n",
    "model = LSTM(input_dim=1, hidden_dim=32, output_dim=10)\n",
    "criterion = nn.MSELoss()\n",
    "optimizer = optim.Adam(model.parameters(), lr=0.001)\n"
   ]
  },
  {
   "cell_type": "code",
   "execution_count": 6,
   "metadata": {},
   "outputs": [
    {
     "name": "stdout",
     "output_type": "stream",
     "text": [
      "Epoch 1/280, Train Loss: 0.1433, Validation Loss: 0.0622\n",
      "Epoch 11/280, Train Loss: 0.0126, Validation Loss: 0.0430\n",
      "Epoch 21/280, Train Loss: 0.0126, Validation Loss: 0.0426\n",
      "Epoch 31/280, Train Loss: 0.0126, Validation Loss: 0.0421\n",
      "Epoch 41/280, Train Loss: 0.0125, Validation Loss: 0.0415\n",
      "Epoch 51/280, Train Loss: 0.0125, Validation Loss: 0.0411\n",
      "Epoch 61/280, Train Loss: 0.0125, Validation Loss: 0.0406\n",
      "Epoch 71/280, Train Loss: 0.0125, Validation Loss: 0.0403\n",
      "Epoch 81/280, Train Loss: 0.0125, Validation Loss: 0.0399\n",
      "Epoch 91/280, Train Loss: 0.0124, Validation Loss: 0.0396\n",
      "Epoch 101/280, Train Loss: 0.0124, Validation Loss: 0.0393\n",
      "Epoch 111/280, Train Loss: 0.0124, Validation Loss: 0.0391\n",
      "Epoch 121/280, Train Loss: 0.0124, Validation Loss: 0.0388\n",
      "Epoch 131/280, Train Loss: 0.0124, Validation Loss: 0.0386\n",
      "Epoch 141/280, Train Loss: 0.0124, Validation Loss: 0.0385\n",
      "Epoch 151/280, Train Loss: 0.0124, Validation Loss: 0.0383\n",
      "Epoch 161/280, Train Loss: 0.0124, Validation Loss: 0.0381\n",
      "Epoch 171/280, Train Loss: 0.0124, Validation Loss: 0.0380\n",
      "Epoch 181/280, Train Loss: 0.0124, Validation Loss: 0.0379\n",
      "Epoch 191/280, Train Loss: 0.0124, Validation Loss: 0.0378\n",
      "Epoch 201/280, Train Loss: 0.0124, Validation Loss: 0.0377\n",
      "Epoch 211/280, Train Loss: 0.0123, Validation Loss: 0.0376\n",
      "Epoch 221/280, Train Loss: 0.0123, Validation Loss: 0.0375\n",
      "Epoch 231/280, Train Loss: 0.0123, Validation Loss: 0.0375\n",
      "Epoch 241/280, Train Loss: 0.0123, Validation Loss: 0.0374\n",
      "Epoch 251/280, Train Loss: 0.0123, Validation Loss: 0.0373\n",
      "Epoch 261/280, Train Loss: 0.0123, Validation Loss: 0.0373\n",
      "Epoch 271/280, Train Loss: 0.0123, Validation Loss: 0.0372\n"
     ]
    }
   ],
   "source": [
    "epochs = 280  # 에포크 수\n",
    "\n",
    "for i, epoch in enumerate(range(epochs)):\n",
    "    \n",
    "    model.train()\n",
    "    train_losses = []\n",
    "    for seq, labels in (train_loader):\n",
    "\n",
    "        y_pred = model(seq)\n",
    "        loss = criterion(y_pred, labels)\n",
    "        \n",
    "        optimizer.zero_grad()\n",
    "        loss.backward()\n",
    "        optimizer.step()\n",
    "        train_losses.append(loss.item())\n",
    "\n",
    "        model.eval()\n",
    "        with torch.no_grad():\n",
    "            val_losses = []\n",
    "            for seq, labels in test_loader:\n",
    "                y_pred  = model(seq)\n",
    "                val_loss = criterion(y_pred, labels)\n",
    "                val_losses.append(val_loss.item()) \n",
    "    if i%10==0:\n",
    "        print(f'Epoch {epoch+1}/{epochs}, Train Loss: {np.mean(train_losses):.4f}, Validation Loss: {np.mean(val_losses):.4f}')\n"
   ]
  },
  {
   "cell_type": "code",
   "execution_count": 7,
   "metadata": {},
   "outputs": [
    {
     "name": "stdout",
     "output_type": "stream",
     "text": [
      "tensor(0.0371)\n"
     ]
    }
   ],
   "source": [
    "model.eval()\n",
    "with torch.no_grad():\n",
    "  for seq, labels in test_loader:\n",
    "     y_pred  = model(seq)\n",
    "     val_loss = criterion(y_pred, labels)\n",
    "  print(val_loss)"
   ]
  },
  {
   "cell_type": "markdown",
   "metadata": {},
   "source": [
    "# 평균판매금액"
   ]
  },
  {
   "cell_type": "code",
   "execution_count": 8,
   "metadata": {},
   "outputs": [],
   "source": [
    "import pandas as pd\n",
    "import numpy as np\n",
    "import torch.optim as optim\n",
    "from sklearn.model_selection import train_test_split\n",
    "from tqdm import tqdm\n",
    "from sklearn.preprocessing import MinMaxScaler\n",
    "import warnings\n",
    "import torch.nn as nn\n",
    "warnings.filterwarnings('ignore')"
   ]
  },
  {
   "cell_type": "code",
   "execution_count": 9,
   "metadata": {},
   "outputs": [],
   "source": [
    "import torch\n",
    "from torch.utils.data import Dataset, DataLoader\n",
    "\n",
    "class TimeSeriesDataset(Dataset):\n",
    "    def __init__(self, X, y):\n",
    "        self.X = X\n",
    "        self.y = y\n",
    "\n",
    "    def __len__(self):\n",
    "        return len(self.X)\n",
    "\n",
    "    def __getitem__(self, idx):\n",
    "        return torch.tensor(self.X[idx], dtype=torch.float32), torch.tensor(self.y[idx], dtype=torch.float32)"
   ]
  },
  {
   "cell_type": "code",
   "execution_count": 10,
   "metadata": {},
   "outputs": [],
   "source": [
    "def create_sequences(data, seq_length):\n",
    "  xs = [] \n",
    "  ys = []\n",
    "  for i in range(len(data.T)-seq_length-10):\n",
    "    x = data[:, i:(i+seq_length)]\n",
    "    y = data[:, (i+seq_length):(i+seq_length+10)]\n",
    "    xs.append(x)\n",
    "    ys.append(y)\n",
    "  return np.array(xs), np.array(ys)"
   ]
  },
  {
   "cell_type": "code",
   "execution_count": 11,
   "metadata": {},
   "outputs": [],
   "source": [
    "import torch.nn as nn\n",
    "import torch\n",
    "\n",
    "class LSTM(nn.Module):\n",
    "    def __init__(self, input_dim, hidden_dim, output_dim):\n",
    "        super(LSTM, self).__init__()\n",
    "        self.hidden_dim = hidden_dim\n",
    "        self.lstm = nn.LSTM(input_dim, hidden_dim, batch_first=True)\n",
    "        self.fc = nn.Linear(hidden_dim, output_dim)\n",
    "        \n",
    "    def forward(self, x):\n",
    "\n",
    "        x=x.permute(0, 2, 1) \n",
    "        # Initialize hidden state with zeros\n",
    "        h0 = torch.zeros(1, x.shape[0], self.hidden_dim)\n",
    "        \n",
    "        # Initialize cell state with zeros\n",
    "        c0 = torch.zeros(1, x.shape[0], self.hidden_dim)\n",
    "        \n",
    "        # Forward propagate LSTM\n",
    "        out, _ = self.lstm(x, (h0, c0)) \n",
    "        \n",
    "        # Decode the hidden state of the last time step\n",
    "        out = self.fc(out[:, -1, :])\n",
    "\n",
    "        return out"
   ]
  },
  {
   "cell_type": "code",
   "execution_count": 12,
   "metadata": {},
   "outputs": [],
   "source": [
    "data = pd.read_csv('./data.csv')\n",
    "data = pd.DataFrame(data.iloc[1])\n",
    "\n",
    "scaler = MinMaxScaler(feature_range=(0, 1))\n",
    "scaled_data = scaler.fit_transform(data).reshape(1, -1)\n",
    "\n",
    "X, y =create_sequences(scaled_data, seq_length=30)\n",
    "\n",
    "# 스케일링된 데이터로 데이터셋 재구성\n",
    "train_size = int(0.64 * len(X))\n",
    "val_size = int(0.16 * len(X))\n",
    "test_size = int(0.20 * len(X))\n",
    "\n",
    "X_train, X_val, X_test = X[:train_size], X[train_size:(train_size+val_size)], X[(train_size+val_size):]\n",
    "y_train, y_val, y_test = y[:train_size], y[train_size:(train_size+val_size)], y[(train_size+val_size):]\n",
    "\n",
    "train_dataset = TimeSeriesDataset(X_train,y_train)\n",
    "train_loader = DataLoader(train_dataset, batch_size=32)\n",
    "val_dataset = TimeSeriesDataset(X_val,y_val)\n",
    "val_loader = DataLoader(val_dataset, batch_size=32)\n",
    "test_dataset = TimeSeriesDataset(X_test, y_test)\n",
    "test_loader = DataLoader(test_dataset, batch_size=len(test_dataset))\n",
    "\n",
    "# 모델 정의\n",
    "model = LSTM(input_dim=1, hidden_dim=32, output_dim=10)\n",
    "criterion = nn.MSELoss()\n",
    "optimizer = optim.Adam(model.parameters(), lr=0.001)\n"
   ]
  },
  {
   "cell_type": "code",
   "execution_count": 13,
   "metadata": {},
   "outputs": [
    {
     "name": "stdout",
     "output_type": "stream",
     "text": [
      "Epoch 1/230, Train Loss: 0.3988, Validation Loss: 0.2645\n",
      "Epoch 11/230, Train Loss: 0.0150, Validation Loss: 0.1616\n",
      "Epoch 21/230, Train Loss: 0.0149, Validation Loss: 0.1627\n",
      "Epoch 31/230, Train Loss: 0.0149, Validation Loss: 0.1624\n",
      "Epoch 41/230, Train Loss: 0.0148, Validation Loss: 0.1621\n",
      "Epoch 51/230, Train Loss: 0.0147, Validation Loss: 0.1620\n",
      "Epoch 61/230, Train Loss: 0.0146, Validation Loss: 0.1622\n",
      "Epoch 71/230, Train Loss: 0.0146, Validation Loss: 0.1627\n",
      "Epoch 81/230, Train Loss: 0.0145, Validation Loss: 0.1634\n",
      "Epoch 91/230, Train Loss: 0.0144, Validation Loss: 0.1644\n",
      "Epoch 101/230, Train Loss: 0.0144, Validation Loss: 0.1653\n",
      "Epoch 111/230, Train Loss: 0.0143, Validation Loss: 0.1660\n",
      "Epoch 121/230, Train Loss: 0.0143, Validation Loss: 0.1666\n",
      "Epoch 131/230, Train Loss: 0.0143, Validation Loss: 0.1669\n",
      "Epoch 141/230, Train Loss: 0.0143, Validation Loss: 0.1672\n",
      "Epoch 151/230, Train Loss: 0.0142, Validation Loss: 0.1673\n",
      "Epoch 161/230, Train Loss: 0.0142, Validation Loss: 0.1675\n",
      "Epoch 171/230, Train Loss: 0.0142, Validation Loss: 0.1675\n",
      "Epoch 181/230, Train Loss: 0.0142, Validation Loss: 0.1676\n",
      "Epoch 191/230, Train Loss: 0.0142, Validation Loss: 0.1677\n",
      "Epoch 201/230, Train Loss: 0.0142, Validation Loss: 0.1677\n",
      "Epoch 211/230, Train Loss: 0.0142, Validation Loss: 0.1678\n",
      "Epoch 221/230, Train Loss: 0.0141, Validation Loss: 0.1679\n"
     ]
    }
   ],
   "source": [
    "epochs = 230  # 에포크 수\n",
    "\n",
    "for i, epoch in enumerate(range(epochs)):\n",
    "    \n",
    "    model.train()\n",
    "    train_losses = []\n",
    "    for seq, labels in (train_loader):\n",
    "\n",
    "        y_pred = model(seq)\n",
    "        loss = criterion(y_pred, labels)\n",
    "        \n",
    "        optimizer.zero_grad()\n",
    "        loss.backward()\n",
    "        optimizer.step()\n",
    "        train_losses.append(loss.item())\n",
    "\n",
    "        model.eval()\n",
    "        with torch.no_grad():\n",
    "            val_losses = []\n",
    "            for seq, labels in test_loader:\n",
    "                y_pred  = model(seq)\n",
    "                val_loss = criterion(y_pred, labels)\n",
    "                val_losses.append(val_loss.item()) \n",
    "    if i%10==0:\n",
    "        print(f'Epoch {epoch+1}/{epochs}, Train Loss: {np.mean(train_losses):.4f}, Validation Loss: {np.mean(val_losses):.4f}')\n"
   ]
  },
  {
   "cell_type": "code",
   "execution_count": 14,
   "metadata": {},
   "outputs": [
    {
     "name": "stdout",
     "output_type": "stream",
     "text": [
      "tensor(0.1679)\n"
     ]
    }
   ],
   "source": [
    "model.eval()\n",
    "with torch.no_grad():\n",
    "  for seq, labels in test_loader:\n",
    "     y_pred  = model(seq)\n",
    "     val_loss = criterion(y_pred, labels)\n",
    "  print(val_loss)"
   ]
  },
  {
   "cell_type": "markdown",
   "metadata": {},
   "source": [
    "# 평균 언급량"
   ]
  },
  {
   "cell_type": "code",
   "execution_count": 15,
   "metadata": {},
   "outputs": [],
   "source": [
    "import pandas as pd\n",
    "import numpy as np\n",
    "import torch.optim as optim\n",
    "from sklearn.model_selection import train_test_split\n",
    "from tqdm import tqdm\n",
    "from sklearn.preprocessing import MinMaxScaler\n",
    "import warnings\n",
    "import torch.nn as nn\n",
    "warnings.filterwarnings('ignore')"
   ]
  },
  {
   "cell_type": "code",
   "execution_count": 16,
   "metadata": {},
   "outputs": [],
   "source": [
    "import torch\n",
    "from torch.utils.data import Dataset, DataLoader\n",
    "\n",
    "class TimeSeriesDataset(Dataset):\n",
    "    def __init__(self, X, y):\n",
    "        self.X = X\n",
    "        self.y = y\n",
    "\n",
    "    def __len__(self):\n",
    "        return len(self.X)\n",
    "\n",
    "    def __getitem__(self, idx):\n",
    "        return torch.tensor(self.X[idx], dtype=torch.float32), torch.tensor(self.y[idx], dtype=torch.float32)"
   ]
  },
  {
   "cell_type": "code",
   "execution_count": 17,
   "metadata": {},
   "outputs": [],
   "source": [
    "def create_sequences(data, seq_length):\n",
    "  xs = [] \n",
    "  ys = []\n",
    "  for i in range(len(data.T)-seq_length-10):\n",
    "    x = data[:, i:(i+seq_length)]\n",
    "    y = data[:, (i+seq_length):(i+seq_length+10)]\n",
    "    xs.append(x)\n",
    "    ys.append(y)\n",
    "  return np.array(xs), np.array(ys)"
   ]
  },
  {
   "cell_type": "code",
   "execution_count": 18,
   "metadata": {},
   "outputs": [],
   "source": [
    "import torch.nn as nn\n",
    "import torch\n",
    "\n",
    "class LSTM(nn.Module):\n",
    "    def __init__(self, input_dim, hidden_dim, output_dim):\n",
    "        super(LSTM, self).__init__()\n",
    "        self.hidden_dim = hidden_dim\n",
    "        self.lstm = nn.LSTM(input_dim, hidden_dim, batch_first=True)\n",
    "        self.fc = nn.Linear(hidden_dim, output_dim)\n",
    "        \n",
    "    def forward(self, x):\n",
    "\n",
    "        x=x.permute(0, 2, 1) \n",
    "        # Initialize hidden state with zeros\n",
    "        h0 = torch.zeros(1, x.shape[0], self.hidden_dim)\n",
    "        \n",
    "        # Initialize cell state with zeros\n",
    "        c0 = torch.zeros(1, x.shape[0], self.hidden_dim)\n",
    "        \n",
    "        # Forward propagate LSTM\n",
    "        out, _ = self.lstm(x, (h0, c0)) \n",
    "        \n",
    "        # Decode the hidden state of the last time step\n",
    "        out = self.fc(out[:, -1, :])\n",
    "\n",
    "        return out"
   ]
  },
  {
   "cell_type": "code",
   "execution_count": 19,
   "metadata": {},
   "outputs": [],
   "source": [
    "data = pd.read_csv('./data.csv')\n",
    "data = pd.DataFrame(data.iloc[2])\n",
    "\n",
    "scaler = MinMaxScaler(feature_range=(0, 1))\n",
    "scaled_data = scaler.fit_transform(data).reshape(1, -1)\n",
    "\n",
    "X, y =create_sequences(scaled_data, seq_length=30)\n",
    "\n",
    "# 스케일링된 데이터로 데이터셋 재구성\n",
    "train_size = int(0.64 * len(X))\n",
    "val_size = int(0.16 * len(X))\n",
    "test_size = int(0.20 * len(X))\n",
    "\n",
    "X_train, X_val, X_test = X[:train_size], X[train_size:(train_size+val_size)], X[(train_size+val_size):]\n",
    "y_train, y_val, y_test = y[:train_size], y[train_size:(train_size+val_size)], y[(train_size+val_size):]\n",
    "\n",
    "train_dataset = TimeSeriesDataset(X_train,y_train)\n",
    "train_loader = DataLoader(train_dataset, batch_size=32)\n",
    "val_dataset = TimeSeriesDataset(X_val,y_val)\n",
    "val_loader = DataLoader(val_dataset, batch_size=32)\n",
    "test_dataset = TimeSeriesDataset(X_test, y_test)\n",
    "test_loader = DataLoader(test_dataset, batch_size=len(test_dataset))\n",
    "\n",
    "# 모델 정의\n",
    "model = LSTM(input_dim=1, hidden_dim=32, output_dim=10)\n",
    "criterion = nn.MSELoss()\n",
    "optimizer = optim.Adam(model.parameters(), lr=0.001)\n"
   ]
  },
  {
   "cell_type": "code",
   "execution_count": 20,
   "metadata": {},
   "outputs": [
    {
     "name": "stdout",
     "output_type": "stream",
     "text": [
      "Epoch 1/50, Train Loss: 0.0767, Validation Loss: 0.0591\n",
      "Epoch 11/50, Train Loss: 0.0090, Validation Loss: 0.0100\n",
      "Epoch 21/50, Train Loss: 0.0089, Validation Loss: 0.0100\n",
      "Epoch 31/50, Train Loss: 0.0089, Validation Loss: 0.0100\n",
      "Epoch 41/50, Train Loss: 0.0088, Validation Loss: 0.0100\n"
     ]
    }
   ],
   "source": [
    "epochs = 50  # 에포크 수\n",
    "\n",
    "for i, epoch in enumerate(range(epochs)):\n",
    "    \n",
    "    model.train()\n",
    "    train_losses = []\n",
    "    for seq, labels in (train_loader):\n",
    "\n",
    "        y_pred = model(seq)\n",
    "        loss = criterion(y_pred, labels)\n",
    "        \n",
    "        optimizer.zero_grad()\n",
    "        loss.backward()\n",
    "        optimizer.step()\n",
    "        train_losses.append(loss.item())\n",
    "\n",
    "        model.eval()\n",
    "        with torch.no_grad():\n",
    "            val_losses = []\n",
    "            for seq, labels in test_loader:\n",
    "                y_pred  = model(seq)\n",
    "                val_loss = criterion(y_pred, labels)\n",
    "                val_losses.append(val_loss.item()) \n",
    "    if i%10==0:\n",
    "        print(f'Epoch {epoch+1}/{epochs}, Train Loss: {np.mean(train_losses):.4f}, Validation Loss: {np.mean(val_losses):.4f}')\n"
   ]
  },
  {
   "cell_type": "code",
   "execution_count": 21,
   "metadata": {},
   "outputs": [
    {
     "name": "stdout",
     "output_type": "stream",
     "text": [
      "tensor(0.0100)\n"
     ]
    }
   ],
   "source": [
    "model.eval()\n",
    "with torch.no_grad():\n",
    "  for seq, labels in test_loader:\n",
    "     y_pred  = model(seq)\n",
    "     val_loss = criterion(y_pred, labels)\n",
    "  print(val_loss)"
   ]
  },
  {
   "cell_type": "code",
   "execution_count": 22,
   "metadata": {},
   "outputs": [
    {
     "ename": "IndexError",
     "evalue": "index -500 is out of bounds for axis 0 with size 84",
     "output_type": "error",
     "traceback": [
      "\u001b[0;31m---------------------------------------------------------------------------\u001b[0m",
      "\u001b[0;31mIndexError\u001b[0m                                Traceback (most recent call last)",
      "Cell \u001b[0;32mIn[22], line 3\u001b[0m\n\u001b[1;32m      1\u001b[0m \u001b[38;5;28;01mimport\u001b[39;00m \u001b[38;5;21;01mmatplotlib\u001b[39;00m\u001b[38;5;21;01m.\u001b[39;00m\u001b[38;5;21;01mpyplot\u001b[39;00m \u001b[38;5;28;01mas\u001b[39;00m \u001b[38;5;21;01mplt\u001b[39;00m\n\u001b[1;32m      2\u001b[0m \u001b[38;5;66;03m# 임의의 훈련 샘플 선택 (여기서는 마지막 샘플을 사용)\u001b[39;00m\n\u001b[0;32m----> 3\u001b[0m sample_seq, sample_label \u001b[38;5;241m=\u001b[39m \u001b[43mtest_dataset\u001b[49m\u001b[43m[\u001b[49m\u001b[38;5;241;43m-\u001b[39;49m\u001b[38;5;241;43m500\u001b[39;49m\u001b[43m]\u001b[49m\n\u001b[1;32m      5\u001b[0m \u001b[38;5;66;03m# 모델을 평가 모드로 설정\u001b[39;00m\n\u001b[1;32m      6\u001b[0m model\u001b[38;5;241m.\u001b[39meval()\n",
      "Cell \u001b[0;32mIn[16], line 13\u001b[0m, in \u001b[0;36mTimeSeriesDataset.__getitem__\u001b[0;34m(self, idx)\u001b[0m\n\u001b[1;32m     12\u001b[0m \u001b[38;5;28;01mdef\u001b[39;00m \u001b[38;5;21m__getitem__\u001b[39m(\u001b[38;5;28mself\u001b[39m, idx):\n\u001b[0;32m---> 13\u001b[0m     \u001b[38;5;28;01mreturn\u001b[39;00m torch\u001b[38;5;241m.\u001b[39mtensor(\u001b[38;5;28;43mself\u001b[39;49m\u001b[38;5;241;43m.\u001b[39;49m\u001b[43mX\u001b[49m\u001b[43m[\u001b[49m\u001b[43midx\u001b[49m\u001b[43m]\u001b[49m, dtype\u001b[38;5;241m=\u001b[39mtorch\u001b[38;5;241m.\u001b[39mfloat32), torch\u001b[38;5;241m.\u001b[39mtensor(\u001b[38;5;28mself\u001b[39m\u001b[38;5;241m.\u001b[39my[idx], dtype\u001b[38;5;241m=\u001b[39mtorch\u001b[38;5;241m.\u001b[39mfloat32)\n",
      "\u001b[0;31mIndexError\u001b[0m: index -500 is out of bounds for axis 0 with size 84"
     ]
    }
   ],
   "source": [
    "import matplotlib.pyplot as plt\n",
    "# 임의의 훈련 샘플 선택 (여기서는 마지막 샘플을 사용)\n",
    "sample_seq, sample_label = test_dataset[-500]\n",
    "\n",
    "# 모델을 평가 모드로 설정\n",
    "model.eval()\n",
    "\n",
    "# 예측 수행\n",
    "with torch.no_grad():\n",
    "    sample_pred, _ = model(sample_seq.unsqueeze(0))  # 배치 차원 추가\n",
    "\n",
    "# 실제 값과 예측 값을 numpy 배열로 변환\n",
    "sample_seq = sample_seq.numpy()\n",
    "sample_label = sample_label.numpy()\n",
    "sample_pred = sample_pred.numpy()\n",
    "\n",
    "# 시각화\n",
    "plt.figure(figsize=(15, 5))\n",
    "\n",
    "# 훈련 데이터 부분 (노란색)\n",
    "plt.plot(np.arange(len(sample_seq)), sample_seq, label='Train Data', color='black')\n",
    "\n",
    "# 실제 레이블 부분 (빨간색) — 마지막 훈련 데이터 포인트 다음에 위치해야 함\n",
    "# 훈련 데이터 길이 + 예측 지점\n",
    "actual_indices = np.arange(len(sample_seq), len(sample_seq) + len(sample_label))\n",
    "plt.plot(actual_indices, sample_label, label='Actual', color='red')\n",
    "\n",
    "# 예측 부분 (초록색) — 마지막 훈련 데이터 포인트 다음에 위치해야 함\n",
    "# 훈련 데이터 길이 + 예측 지점\n",
    "pred_indices = np.arange(len(sample_seq), len(sample_seq) + len(sample_pred[0]))\n",
    "plt.plot(pred_indices, sample_pred[0], label='Prediction', color='green')\n",
    "\n",
    "plt.title('Sample Train Data, Actual and Predicted Values')\n",
    "plt.xlabel('Time Steps')\n",
    "plt.ylabel('Value')\n",
    "plt.legend()\n",
    "plt.show()\n"
   ]
  },
  {
   "cell_type": "code",
   "execution_count": null,
   "metadata": {},
   "outputs": [
    {
     "data": {
      "text/plain": [
       "33"
      ]
     },
     "execution_count": 44,
     "metadata": {},
     "output_type": "execute_result"
    }
   ],
   "source": [
    "len(sample_seq) + len(sample_label)"
   ]
  },
  {
   "cell_type": "code",
   "execution_count": null,
   "metadata": {},
   "outputs": [
    {
     "data": {
      "text/plain": [
       "array([0.50807816, 0.36243066, 0.35278514], dtype=float32)"
      ]
     },
     "execution_count": 46,
     "metadata": {},
     "output_type": "execute_result"
    }
   ],
   "source": [
    "sample_label"
   ]
  },
  {
   "cell_type": "code",
   "execution_count": null,
   "metadata": {},
   "outputs": [
    {
     "ename": "NameError",
     "evalue": "name 'predicted_test' is not defined",
     "output_type": "error",
     "traceback": [
      "\u001b[0;31m---------------------------------------------------------------------------\u001b[0m",
      "\u001b[0;31mNameError\u001b[0m                                 Traceback (most recent call last)",
      "Cell \u001b[0;32mIn[8], line 1\u001b[0m\n\u001b[0;32m----> 1\u001b[0m \u001b[43mpredicted_test\u001b[49m[:, \u001b[38;5;241m0\u001b[39m]\u001b[38;5;241m.\u001b[39mshape\n",
      "\u001b[0;31mNameError\u001b[0m: name 'predicted_test' is not defined"
     ]
    }
   ],
   "source": [
    "predicted_test[:, 0].shape"
   ]
  },
  {
   "cell_type": "code",
   "execution_count": null,
   "metadata": {},
   "outputs": [],
   "source": []
  }
 ],
 "metadata": {
  "kernelspec": {
   "display_name": "lgai",
   "language": "python",
   "name": "python3"
  },
  "language_info": {
   "codemirror_mode": {
    "name": "ipython",
    "version": 3
   },
   "file_extension": ".py",
   "mimetype": "text/x-python",
   "name": "python",
   "nbconvert_exporter": "python",
   "pygments_lexer": "ipython3",
   "version": "3.8.17"
  },
  "orig_nbformat": 4
 },
 "nbformat": 4,
 "nbformat_minor": 2
}
